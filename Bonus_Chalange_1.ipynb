{
 "cells": [
  {
   "cell_type": "markdown",
   "metadata": {},
   "source": [
    "# Bonus Challenge 1 - T-test\n",
    "\n",
    "In statistics, t-test is used to test if two data samples have a significant difference between their means. There are two types of t-test:\n",
    "\n",
    "* **Student's t-test** (a.k.a. independent or uncorrelated t-test). This type of t-test is to compare the samples of **two independent populations** (e.g. test scores of students in two different classes). `scipy` provides the [`ttest_ind`](https://docs.scipy.org/doc/scipy-0.15.1/reference/generated/scipy.stats.ttest_ind.html) method to conduct student's t-test.\n",
    "\n",
    "* **Paired t-test** (a.k.a. dependent or correlated t-test). This type of t-test is to compare the samples of **the same population** (e.g. scores of different tests of students in the same class). `scipy` provides the [`ttest_rel`](https://docs.scipy.org/doc/scipy-0.15.1/reference/generated/scipy.stats.ttest_rel.html) method to conduct paired t-test.\n",
    "\n",
    "Both types of t-tests return a number which is called the **p-value**. If p-value is below 0.05, we can confidently declare the null-hypothesis is rejected and the difference is significant. If p-value is between 0.05 and 0.1, we may also declare the null-hypothesis is rejected but we are not highly confident. If p-value is above 0.1 we do not reject the null-hypothesis.\n",
    "\n",
    "Read more about the t-test in [this article](http://b.link/test50) and [this Quora](http://b.link/unpaired97). Make sure you understand when to use which type of t-test."
   ]
  },
  {
   "cell_type": "code",
   "execution_count": 1,
   "metadata": {},
   "outputs": [],
   "source": [
    "# Import libraries\n",
    "import pandas as pd\n",
    "import scipy.stats as st\n",
    "import numpy as np\n",
    "from scipy.stats import ttest_ind\n",
    "from scipy.stats import ttest_rel"
   ]
  },
  {
   "cell_type": "markdown",
   "metadata": {},
   "source": [
    "#### Import dataset\n",
    "\n",
    "In this challenge we will work on the Pokemon dataset you have already used. The goal is to test whether different groups of pokemon (e.g. Legendary vs Normal, Generation 1 vs 2, single-type vs dual-type) have different stats (e.g. HP, Attack, Defense, etc.). Use Ironhack's database to load the data (db: pokemon, table: pokemon_stats). "
   ]
  },
  {
   "cell_type": "code",
   "execution_count": 2,
   "metadata": {},
   "outputs": [],
   "source": [
    "pokemon=pd.read_csv('pokemon.csv')"
   ]
  },
  {
   "cell_type": "markdown",
   "metadata": {},
   "source": [
    "#### First we want to define a function with which we can test the means of a feature set of two samples. \n",
    "\n",
    "In the next cell you'll see the annotations of the Python function that explains what this function does and its arguments and returned value. This type of annotation is called **docstring** which is a convention used among Python developers. The docstring convention allows developers to write consistent tech documentations for their codes so that others can read. It also allows some websites to automatically parse the docstrings and display user-friendly documentations.\n",
    "\n",
    "Follow the specifications of the docstring and complete the function."
   ]
  },
  {
   "cell_type": "code",
   "execution_count": 13,
   "metadata": {},
   "outputs": [],
   "source": [
    "def t_test_features(s1, s2, features=['HP', 'Attack', 'Defense', 'Sp. Atk', 'Sp. Def', 'Speed', 'Total']):\n",
    "    \"\"\"Test means of a feature set of two samples\n",
    "    Args:\n",
    "        s1 (dataframe): sample 1\n",
    "        s2 (dataframe): sample 2\n",
    "        features (list): an array of features to test\n",
    "        \n",
    "    Returns:\n",
    "        dict: a dictionary of t-test scores for each feature where the feature name is the key and the p-value is the value\\n\",\n",
    "    \"\"\"\n",
    "    results = {}\n",
    "    \n",
    "    for f in features:\n",
    "        stat, pval = ttest_ind(s1[f],s2[f])\n",
    "        results[f]=  pval , stat \n",
    "    #Your code here\n",
    "    return results"
   ]
  },
  {
   "cell_type": "markdown",
   "metadata": {},
   "source": [
    "#### Using the `t_test_features` function, conduct t-test for Lengendary vs non-Legendary pokemons.\n",
    "    \n",
    "*Hint: your output should look like below:*\n",
    "    \n",
    "```\n",
    "{'HP': 1.0026911708035284e-13,\n",
    "'Attack': 2.520372449236646e-16,\n",
    "'Defense': 4.8269984949193316e-11,\n",
    "'Sp. Atk': 1.5514614112239812e-21,\n",
    "'Sp. Def': 2.2949327864052826e-15,\n",
    "'Speed': 1.049016311882451e-18,\n",
    "'Total': 9.357954335957446e-47}\n",
    "```"
   ]
  },
  {
   "cell_type": "code",
   "execution_count": 14,
   "metadata": {},
   "outputs": [
    {
     "data": {
      "text/plain": [
       "{'HP': (3.330647684846191e-15, 8.036124405043928),\n",
       " 'Attack': (7.827253003205333e-24, 10.397321023700622),\n",
       " 'Defense': (1.5842226094427255e-12, 7.181240122992339),\n",
       " 'Sp. Atk': (6.314915770427266e-41, 14.191406210846289),\n",
       " 'Sp. Def': (1.8439809580409333e-26, 11.037751061205222),\n",
       " 'Speed': (2.3540754436897763e-21, 9.7652343319319),\n",
       " 'Total': (3.0952457469652825e-52, 16.386116965872425)}"
      ]
     },
     "execution_count": 14,
     "metadata": {},
     "output_type": "execute_result"
    }
   ],
   "source": [
    "t_test_features(pokemon[pokemon.Legendary], pokemon[~pokemon.Legendary])"
   ]
  },
  {
   "cell_type": "markdown",
   "metadata": {},
   "source": [
    "#### From the test results above, what conclusion can you make? Do Legendary and non-Legendary pokemons have significantly different stats on each feature?"
   ]
  },
  {
   "cell_type": "code",
   "execution_count": 5,
   "metadata": {},
   "outputs": [],
   "source": [
    "# legendary pokemon have higher stats"
   ]
  },
  {
   "cell_type": "markdown",
   "metadata": {},
   "source": [
    "#### Next, conduct t-test for Generation 1 and Generation 2 pokemons."
   ]
  },
  {
   "cell_type": "code",
   "execution_count": 15,
   "metadata": {},
   "outputs": [
    {
     "data": {
      "text/plain": [
       "{'HP': (0.13791881412813622, -1.4879963792658193),\n",
       " 'Attack': (0.24050968418101457, 1.1763035045816723),\n",
       " 'Defense': (0.5407630349194362, -0.6124386271679768),\n",
       " 'Sp. Atk': (0.141197881763315, 1.4756693714061433),\n",
       " 'Sp. Def': (0.16781226231606386, -1.3829844029533516),\n",
       " 'Speed': (0.0028356954812578704, 3.0126333688329856),\n",
       " 'Total': (0.559914064901444, 0.5836931395106779)}"
      ]
     },
     "execution_count": 15,
     "metadata": {},
     "output_type": "execute_result"
    }
   ],
   "source": [
    "t_test_features(pokemon[pokemon.Generation == 1], pokemon[pokemon.Generation == 2])\n"
   ]
  },
  {
   "cell_type": "markdown",
   "metadata": {},
   "source": [
    "#### What conclusions can you make?"
   ]
  },
  {
   "cell_type": "code",
   "execution_count": 7,
   "metadata": {},
   "outputs": [],
   "source": [
    "# The speed of the pokemon of the 1. generation are faster as the pokemon of the 2. generation.\n",
    "# For the other stats, no significant differences can be detected"
   ]
  },
  {
   "cell_type": "markdown",
   "metadata": {},
   "source": [
    "#### Compare pokemons who have single type vs those having two types."
   ]
  },
  {
   "cell_type": "code",
   "execution_count": 16,
   "metadata": {},
   "outputs": [
    {
     "data": {
      "text/plain": [
       "{'HP': (0.11060643144431853, -1.5972474915483388),\n",
       " 'Attack': (0.00015741395666164396, -3.7972414565658683),\n",
       " 'Defense': (3.250594205757004e-08, -5.58247971732322),\n",
       " 'Sp. Atk': (0.0001454917404035147, -3.8170824160380157),\n",
       " 'Sp. Def': (0.00010893304795534396, -3.8892352214769463),\n",
       " 'Speed': (0.024051410794037463, -2.2606203667533133),\n",
       " 'Total': (1.1749035008828668e-07, -5.345970873144629)}"
      ]
     },
     "execution_count": 16,
     "metadata": {},
     "output_type": "execute_result"
    }
   ],
   "source": [
    "# for single type pokemon follows Type 2 = Null\n",
    "t_test_features(pokemon[pokemon['Type 2'].isna()], pokemon[~pokemon['Type 2'].isna()])"
   ]
  },
  {
   "cell_type": "markdown",
   "metadata": {},
   "source": [
    "#### What conclusions can you make?"
   ]
  },
  {
   "cell_type": "code",
   "execution_count": 8,
   "metadata": {},
   "outputs": [],
   "source": [
    "# single type pokemon have lower stats as those of to types\n",
    "# only the differences of the HP stats are not big enough to reject a similarity of this stat"
   ]
  },
  {
   "cell_type": "markdown",
   "metadata": {},
   "source": [
    "#### Now, we want to compare whether there are significant differences of `Attack` vs `Defense`  and  `Sp. Atk` vs `Sp. Def` of all pokemons. Please write your code below.\n",
    "    \n",
    "*Hint: are you comparing different populations or the same population?*"
   ]
  },
  {
   "cell_type": "code",
   "execution_count": 19,
   "metadata": {},
   "outputs": [
    {
     "name": "stdout",
     "output_type": "stream",
     "text": [
      "Attack vs. Defense: 4.325566393330478 1.7140303479358558e-05\n",
      "Sp. Atk vs. Sp. Def: 0.853986188453353 0.3933685997548122\n"
     ]
    }
   ],
   "source": [
    "stat, pval = ttest_rel(pokemon['Attack'],pokemon['Defense'])\n",
    "print('Attack vs. Defense:',stat, pval)\n",
    "stat, pval = ttest_rel(pokemon['Sp. Atk'],pokemon['Sp. Def'])\n",
    "print('Sp. Atk vs. Sp. Def:',stat, pval)"
   ]
  },
  {
   "cell_type": "markdown",
   "metadata": {},
   "source": [
    "#### What conclusions can you make?"
   ]
  },
  {
   "cell_type": "code",
   "execution_count": 9,
   "metadata": {},
   "outputs": [],
   "source": [
    "# In general the pokemon have more Atk points as Def. points\n",
    "# There does not exist a significant difference between Sp. Atk and Sp. Def"
   ]
  }
 ],
 "metadata": {
  "interpreter": {
   "hash": "e956ae00da0b923c53eac0ba781c2d63e37e4818bc4e157197045199dda01c2a"
  },
  "kernelspec": {
   "display_name": "Python 3.9.7 64-bit ('base': conda)",
   "language": "python",
   "name": "python3"
  },
  "language_info": {
   "codemirror_mode": {
    "name": "ipython",
    "version": 3
   },
   "file_extension": ".py",
   "mimetype": "text/x-python",
   "name": "python",
   "nbconvert_exporter": "python",
   "pygments_lexer": "ipython3",
   "version": "3.9.7"
  },
  "orig_nbformat": 4
 },
 "nbformat": 4,
 "nbformat_minor": 2
}
